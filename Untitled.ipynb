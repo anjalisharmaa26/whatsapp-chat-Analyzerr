{
 "cells": [
  {
   "cell_type": "code",
   "execution_count": 3,
   "id": "8fa2d21b-7342-4d4f-aff5-9cda5032a927",
   "metadata": {},
   "outputs": [
    {
     "name": "stdout",
     "output_type": "stream",
     "text": [
      "      date     time         user                    message\n",
      "0  2/21/25  8:43 PM  Aditi Singh                       null\n",
      "1  2/21/25  8:44 PM  Aditi Singh                       null\n",
      "2  2/21/25  8:45 PM  Aditi Singh            <Media omitted>\n",
      "3  2/21/25  8:46 PM  Aditi Singh            <Media omitted>\n",
      "4  2/21/25  8:47 PM  Aditi Singh  Thank you bol rhi thi mai\n"
     ]
    }
   ],
   "source": [
    "import re\n",
    "import pandas as pd\n",
    "\n",
    "# File path\n",
    "file_path = \"WhatsApp Chat with Harshit.txt\"\n",
    "\n",
    "# Updated regex pattern to match various formats\n",
    "pattern = r\"(\\d{1,2}/\\d{1,2}/\\d{2,4}), (\\d{1,2}:\\d{2}\\s[APMapm]{2}) - (.+?): (.+)\"\n",
    "\n",
    "# Lists to store extracted data\n",
    "dates, times, users, messages = [], [], [], []\n",
    "\n",
    "# Read file line by line\n",
    "with open(file_path, \"r\", encoding=\"utf-8\") as file:\n",
    "    for line in file:\n",
    "        match = re.match(pattern, line)\n",
    "        if match:\n",
    "            dates.append(match.group(1))\n",
    "            times.append(match.group(2))\n",
    "            users.append(match.group(3))\n",
    "            messages.append(match.group(4))\n",
    "\n",
    "# Create DataFrame\n",
    "df = pd.DataFrame({'date': dates, 'time': times, 'user': users, 'message': messages})\n",
    "\n",
    "# # Convert date and time to datetime format\n",
    "# df['datetime'] = pd.to_datetime(df['date'] + \" \" + df['time'], format='%m/%d/%y %I:%M %p')\n",
    "\n",
    "# # Extract additional details\n",
    "# df['only_date'] = df['datetime'].dt.date\n",
    "# df['year'] = df['datetime'].dt.year\n",
    "# df['month_num'] = df['datetime'].dt.month\n",
    "# df['month'] = df['datetime'].dt.strftime('%B')\n",
    "# df['day'] = df['datetime'].dt.day\n",
    "# df['day_name'] = df['datetime'].dt.strftime('%A')\n",
    "# df['hour'] = df['datetime'].dt.hour\n",
    "# df['minute'] = df['datetime'].dt.minute\n",
    "# df['period'] = df['datetime'].dt.strftime('%p')\n",
    "\n",
    "# # Drop unnecessary columns\n",
    "# df = df[['date', 'user', 'message', 'only_date', 'year', 'month_num', 'month', 'day', 'day_name', 'hour', 'minute', 'period']]\n",
    "\n",
    "# # Display first few rows\n",
    "print(df.head())\n"
   ]
  },
  {
   "cell_type": "code",
   "execution_count": null,
   "id": "a2516b8e-eb83-4b8b-aead-6d17b3097cb2",
   "metadata": {},
   "outputs": [],
   "source": []
  },
  {
   "cell_type": "code",
   "execution_count": null,
   "id": "f42202a1-9e8b-496d-a25e-72e5c074b2a6",
   "metadata": {},
   "outputs": [],
   "source": []
  }
 ],
 "metadata": {
  "kernelspec": {
   "display_name": "Python 3 (ipykernel)",
   "language": "python",
   "name": "python3"
  },
  "language_info": {
   "codemirror_mode": {
    "name": "ipython",
    "version": 3
   },
   "file_extension": ".py",
   "mimetype": "text/x-python",
   "name": "python",
   "nbconvert_exporter": "python",
   "pygments_lexer": "ipython3",
   "version": "3.12.4"
  }
 },
 "nbformat": 4,
 "nbformat_minor": 5
}
